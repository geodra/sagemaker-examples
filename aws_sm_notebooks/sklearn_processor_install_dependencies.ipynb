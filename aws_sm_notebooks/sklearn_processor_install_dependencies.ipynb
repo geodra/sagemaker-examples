{
 "cells": [
  {
   "cell_type": "code",
   "execution_count": null,
   "id": "a869f344",
   "metadata": {},
   "outputs": [],
   "source": [
    "import os\n",
    "import sagemaker\n",
    "from sagemaker.sklearn.estimator import SKLearn\n",
    "from sagemaker.processing import FrameworkProcessor, ProcessingInput, ProcessingOutput"
   ]
  },
  {
   "cell_type": "code",
   "execution_count": null,
   "id": "89f63603",
   "metadata": {},
   "outputs": [],
   "source": [
    "est_cls = SKLearn\n",
    "framework_version_str = \"0.20.0\"\n",
    "\n",
    "\n",
    "sklearn_image = sagemaker.image_uris.retrieve(framework=\"sklearn\", \n",
    "                                         region=\"eu-west-1\",\n",
    "                                         version= \"1.2-1\",\n",
    "                                         instance_type=\"ml.c5.xlarge\",\n",
    "                                         image_scope=\"training\"\n",
    "                                        )\n",
    "sklearn_image"
   ]
  },
  {
   "cell_type": "code",
   "execution_count": null,
   "id": "c537a123",
   "metadata": {},
   "outputs": [],
   "source": [
    "sklearn_processor = FrameworkProcessor(\n",
    "                                    estimator_cls=est_cls,\n",
    "                                    framework_version=framework_version_str,\n",
    "#                                      image_uri = sklearn_image,\n",
    "                                     role=sagemaker.get_execution_role(),\n",
    "                                     instance_type='ml.m5.xlarge',\n",
    "                                     instance_count=1)"
   ]
  },
  {
   "cell_type": "code",
   "execution_count": null,
   "id": "ce282742",
   "metadata": {},
   "outputs": [],
   "source": [
    "os.makedirs(\"src\",exist_ok=True)"
   ]
  },
  {
   "cell_type": "code",
   "execution_count": null,
   "id": "02944f95",
   "metadata": {},
   "outputs": [],
   "source": [
    "%%writefile src/preprocessing.py\n",
    "import langchain\n",
    "import transformers\n",
    "print(f\"Transformers version:{transformers.__version__}\")\n",
    "print(f\"Langchain version:{langchain.__version__}\")"
   ]
  },
  {
   "cell_type": "code",
   "execution_count": null,
   "id": "48a8bb02",
   "metadata": {},
   "outputs": [],
   "source": [
    "%%writefile src/requirements.txt\n",
    "transformers\n",
    "langchain"
   ]
  },
  {
   "cell_type": "code",
   "execution_count": null,
   "id": "330b5722",
   "metadata": {},
   "outputs": [],
   "source": [
    "sklearn_processor.run('preprocessing.py', \n",
    "    source_dir='src',\n",
    "    inputs=None, \n",
    "    outputs=None, \n",
    "    arguments=None, \n",
    "    wait=False, \n",
    "    logs=True, \n",
    "    job_name=\"sklearn-processor-with-extra-req\",\n",
    "    )"
   ]
  },
  {
   "cell_type": "code",
   "execution_count": null,
   "id": "361d1eb6",
   "metadata": {},
   "outputs": [],
   "source": []
  }
 ],
 "metadata": {
  "kernelspec": {
   "display_name": "conda_python3",
   "language": "python",
   "name": "conda_python3"
  },
  "language_info": {
   "codemirror_mode": {
    "name": "ipython",
    "version": 3
   },
   "file_extension": ".py",
   "mimetype": "text/x-python",
   "name": "python",
   "nbconvert_exporter": "python",
   "pygments_lexer": "ipython3",
   "version": "3.10.10"
  }
 },
 "nbformat": 4,
 "nbformat_minor": 5
}
