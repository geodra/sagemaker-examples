{
 "cells": [
  {
   "cell_type": "code",
   "execution_count": 2,
   "id": "9ac86a50",
   "metadata": {
    "scrolled": true
   },
   "outputs": [],
   "source": [
    "!pip install boto3>=1.43.0"
   ]
  },
  {
   "cell_type": "code",
   "execution_count": 3,
   "id": "cd4418ed",
   "metadata": {},
   "outputs": [
    {
     "name": "stdout",
     "output_type": "stream",
     "text": [
      "{'ResourceArn': 'arn:aws:sagemaker:eu-west-1:123201626563:notebook-instance/geodra', 'ResourceName': 'geodra'}\n"
     ]
    }
   ],
   "source": [
    "import json\n",
    "import boto3\n",
    "\n",
    "# Open the JSON file for reading\n",
    "with open(\"/opt/ml/metadata/resource-metadata.json\", 'r') as f:\n",
    "    # Load the contents of the file into a Python dictionary\n",
    "    data = json.load(f)\n",
    "\n",
    "# Print the contents of the dictionary\n",
    "print(data)"
   ]
  },
  {
   "cell_type": "code",
   "execution_count": 10,
   "id": "f7e1ca2f",
   "metadata": {},
   "outputs": [
    {
     "data": {
      "text/plain": [
       "{'Tags': [{'Key': 'environment', 'Value': 'production'},\n",
       "  {'Key': 'service_component', 'Value': 'chat_transactions'},\n",
       "  {'Key': 'service_name', 'Value': 'chat_transactions'},\n",
       "  {'Key': 'pillar_or_tribe', 'Value': 'dsm'},\n",
       "  {'Key': 'business_unit', 'Value': 'olx_europe'},\n",
       "  {'Key': 'customer_unit', 'Value': 'data'},\n",
       "  {'Key': 'team_name', 'Value': 'data_science_horizontals'}],\n",
       " 'ResponseMetadata': {'RequestId': 'e6310938-d361-4b9f-a02b-4600bed9edfa',\n",
       "  'HTTPStatusCode': 200,\n",
       "  'HTTPHeaders': {'x-amzn-requestid': 'e6310938-d361-4b9f-a02b-4600bed9edfa',\n",
       "   'content-type': 'application/x-amz-json-1.1',\n",
       "   'content-length': '339',\n",
       "   'date': 'Wed, 26 Apr 2023 09:59:30 GMT'},\n",
       "  'RetryAttempts': 0}}"
      ]
     },
     "execution_count": 10,
     "metadata": {},
     "output_type": "execute_result"
    }
   ],
   "source": [
    "# Create a SageMaker client\n",
    "sagemaker_client = boto3.client('sagemaker')\n",
    "\n",
    "# Define the tags you want to add\n",
    "tags = [{'Key': 'environment', 'Value': 'production'},\n",
    " {'Key': 'service_component', 'Value': 'chat_transactions'},\n",
    " {'Key': 'service_name', 'Value': 'chat_transactions'},\n",
    " {'Key': 'pillar_or_tribe', 'Value': 'dsm'},\n",
    " {'Key': 'business_unit', 'Value': 'olx_europe'},\n",
    " {'Key': 'customer_unit', 'Value': 'data'},\n",
    " {'Key': 'team_name', 'Value': 'data_science_horizontals'}]\n",
    "\n",
    "# Add the tags to the notebook instance\n",
    "sagemaker_client.add_tags(ResourceArn=data['ResourceArn'], Tags=tags)"
   ]
  }
 ],
 "metadata": {
  "kernelspec": {
   "display_name": "conda_pytorch_p39",
   "language": "python",
   "name": "conda_pytorch_p39"
  },
  "language_info": {
   "codemirror_mode": {
    "name": "ipython",
    "version": 3
   },
   "file_extension": ".py",
   "mimetype": "text/x-python",
   "name": "python",
   "nbconvert_exporter": "python",
   "pygments_lexer": "ipython3",
   "version": "3.9.15"
  }
 },
 "nbformat": 4,
 "nbformat_minor": 5
}
